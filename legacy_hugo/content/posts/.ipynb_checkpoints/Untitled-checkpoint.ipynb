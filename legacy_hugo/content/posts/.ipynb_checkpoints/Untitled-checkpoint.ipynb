{
 "cells": [
  {
   "cell_type": "markdown",
   "id": "fc6a4969-00c2-4a23-8502-ae509f155cb7",
   "metadata": {},
   "source": [
    "---\n",
    "title: My Sample in Jupyter\n",
    "date: 2019-09-01\n",
    "---"
   ]
  },
  {
   "cell_type": "markdown",
   "id": "1ab0088d-a794-4f3b-9b62-ba2349f6ab83",
   "metadata": {},
   "source": [
    "# A Sample file in Jupyter\n",
    "\n",
    "What will happen when it's exported, I wonder.\n",
    "\n",
    "$$\n",
    "\\frac{(5-2) \\times 180}{5} = 108^o\n",
    "$$"
   ]
  }
 ],
 "metadata": {
  "kernelspec": {
   "display_name": "Python 3 (ipykernel)",
   "language": "python",
   "name": "python3"
  },
  "language_info": {
   "codemirror_mode": {
    "name": "ipython",
    "version": 3
   },
   "file_extension": ".py",
   "mimetype": "text/x-python",
   "name": "python",
   "nbconvert_exporter": "python",
   "pygments_lexer": "ipython3",
   "version": "3.12.1"
  }
 },
 "nbformat": 4,
 "nbformat_minor": 5
}
