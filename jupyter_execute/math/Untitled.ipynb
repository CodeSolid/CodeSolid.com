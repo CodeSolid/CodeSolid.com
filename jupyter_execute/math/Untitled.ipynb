{
 "cells": [],
 "metadata": {
  "jupytext": {
   "formats": "md:myst",
   "text_representation": {
    "extension": ".md",
    "format_name": "myst",
    "format_version": 0.13,
    "jupytext_version": "1.16.1"
   }
  },
  "source_map": []
 },
 "nbformat": 4,
 "nbformat_minor": 5
}