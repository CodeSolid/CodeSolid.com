{
 "cells": [
  {
   "cell_type": "markdown",
   "id": "b0da723c-739a-4ce9-a11b-c94ad6a7978e",
   "metadata": {},
   "source": [
    "# Conic Sections in Sympy, a very Brief Introduction"
   ]
  },
  {
   "cell_type": "code",
   "execution_count": 1,
   "id": "008a81f4-587d-451e-b121-68cdcf5db43b",
   "metadata": {},
   "outputs": [],
   "source": [
    "import matplotlib as mp\n",
    "from sympy import symbols, Eq, plot_implicit"
   ]
  },
  {
   "cell_type": "code",
   "execution_count": 2,
   "id": "34b13114-47a7-4431-b207-39a15dd6bd15",
   "metadata": {},
   "outputs": [],
   "source": [
    "x, y, a,b = symbols(\"x y a b\")\n",
    "a = 1\n",
    "b = 3"
   ]
  },
  {
   "cell_type": "code",
   "execution_count": 3,
   "id": "17fb2b58-c9e1-4aa4-bbd3-83f5255e14b0",
   "metadata": {},
   "outputs": [],
   "source": [
    "# JCL Todo explain functions\n",
    "\n",
    "ellipse =   (y**2)/(b**2) + (x**2)/(a**2) - 1 \n",
    "hyperbola = (y**2)/(b**2) - (x**2)/(a**2) - 1 \n",
    "\n",
    "# Another way to write the function without zeroing out one side.\n",
    "hyperbola2 = Eq((y**2)/(b**2) - (x**2)/(a**2), 1)"
   ]
  },
  {
   "cell_type": "code",
   "execution_count": 4,
   "id": "777d22c2-fc39-4003-a68b-8e40e2722806",
   "metadata": {},
   "outputs": [
    {
     "data": {
      "image/png": "[encoded data removed]",
      "text/plain": [
       "<Figure size 640x480 with 1 Axes>"
      ]
     },
     "metadata": {},
     "output_type": "display_data"
    }
   ],
   "source": [
    "# Could break code out during the explanation phase and then do each separately, \n",
    "# then combine the ellipse and hyperbola\n",
    "\n",
    "%matplotlib inline\n",
    "p1 = plot_implicit(ellipse, show=False, xlabel=\"\", ylabel=\"\")\n",
    "p2 = plot_implicit(hyperbola,show=False, xlabel=\"\", ylabel=\"\")\n",
    "p1.extend(p2)\n",
    "p1.show()"
   ]
  },
  {
   "cell_type": "code",
   "execution_count": 5,
   "id": "af8c953e-7e1f-4c94-a258-43749840d3ba",
   "metadata": {},
   "outputs": [
    {
     "ename": "NameError",
     "evalue": "name 'Circle' is not defined",
     "output_type": "error",
     "traceback": [
      "\u001b[0;31m---------------------------------------------------------------------------\u001b[0m",
      "\u001b[0;31mNameError\u001b[0m                                 Traceback (most recent call last)",
      "Cell \u001b[0;32mIn[5], line 5\u001b[0m\n\u001b[1;32m      1\u001b[0m \u001b[38;5;66;03m# Now do it Euclid's way\u001b[39;00m\n\u001b[1;32m      2\u001b[0m \u001b[38;5;66;03m# Note, it breaks down at  radii > 5 -- use that to introduce \u001b[39;00m\n\u001b[1;32m      3\u001b[0m \u001b[38;5;66;03m# symplot\u001b[39;00m\n\u001b[1;32m      4\u001b[0m get_ipython()\u001b[38;5;241m.\u001b[39mrun_line_magic(\u001b[38;5;124m'\u001b[39m\u001b[38;5;124mmatplotlib\u001b[39m\u001b[38;5;124m'\u001b[39m, \u001b[38;5;124m'\u001b[39m\u001b[38;5;124minline\u001b[39m\u001b[38;5;124m'\u001b[39m)\n\u001b[0;32m----> 5\u001b[0m circle1 \u001b[38;5;241m=\u001b[39m \u001b[43mCircle\u001b[49m(Point(\u001b[38;5;241m0\u001b[39m,\u001b[38;5;241m0\u001b[39m), \u001b[38;5;241m5\u001b[39m)\n\u001b[1;32m      6\u001b[0m \u001b[38;5;66;03m# print(circle1.center)\u001b[39;00m\n\u001b[1;32m      7\u001b[0m \u001b[38;5;66;03m# print(circle1.radius)\u001b[39;00m\n\u001b[1;32m      8\u001b[0m \u001b[38;5;66;03m# print(circle1.equation())\u001b[39;00m\n\u001b[1;32m      9\u001b[0m p \u001b[38;5;241m=\u001b[39m plot_implicit(circle1\u001b[38;5;241m.\u001b[39mequation(), show\u001b[38;5;241m=\u001b[39m\u001b[38;5;28;01mFalse\u001b[39;00m)\n",
      "\u001b[0;31mNameError\u001b[0m: name 'Circle' is not defined"
     ]
    }
   ],
   "source": [
    "# Now do it Euclid's way\n",
    "# Note, it breaks down at  radii > 5 -- use that to introduce \n",
    "# symplot\n",
    "%matplotlib inline\n",
    "circle1 = Circle(Point(0,0), 5)\n",
    "# print(circle1.center)\n",
    "# print(circle1.radius)\n",
    "# print(circle1.equation())\n",
    "p = plot_implicit(circle1.equation(), show=False)\n",
    "p.aspect_ratio=(1,1) \n",
    "grid_max = 10\n",
    "grid_min = -10\n",
    "lims = (grid_min, grid_max)\n",
    "p.xlim = lims\n",
    "p.ylim = lims\n",
    "p.show()"
   ]
  }
 ],
 "metadata": {
  "kernelspec": {
   "display_name": "Python 3 (ipykernel)",
   "language": "python",
   "name": "python3"
  },
  "language_info": {
   "codemirror_mode": {
    "name": "ipython",
    "version": 3
   },
   "file_extension": ".py",
   "mimetype": "text/x-python",
   "name": "python",
   "nbconvert_exporter": "python",
   "pygments_lexer": "ipython3",
   "version": "3.11.2"
  }
 },
 "nbformat": 4,
 "nbformat_minor": 5
}