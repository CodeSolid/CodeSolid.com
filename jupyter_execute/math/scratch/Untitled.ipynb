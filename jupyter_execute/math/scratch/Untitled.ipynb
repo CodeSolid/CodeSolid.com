{
 "cells": [
  {
   "cell_type": "markdown",
   "id": "b0da723c-739a-4ce9-a11b-c94ad6a7978e",
   "metadata": {},
   "source": [
    "# Conic Sections in Sympy, a Brief Introduction"
   ]
  },
  {
   "cell_type": "code",
   "execution_count": 1,
   "id": "008a81f4-587d-451e-b121-68cdcf5db43b",
   "metadata": {},
   "outputs": [
    {
     "name": "stdout",
     "output_type": "stream",
     "text": [
      "IPython console for SymPy 1.12 (Python 3.11.2-64-bit) (ground types: python)\n",
      "\n",
      "These commands were executed:\n",
      ">>> from sympy import *\n",
      ">>> x, y, z, t = symbols('x y z t')\n",
      ">>> k, m, n = symbols('k m n', integer=True)\n",
      ">>> f, g, h = symbols('f g h', cls=Function)\n",
      ">>> init_printing()\n",
      "\n",
      "Documentation can be found at https://docs.sympy.org/1.12/\n",
      "\n"
     ]
    }
   ],
   "source": [
    "import sympy as sp\n",
    "import matplotlib as mp\n",
    "sp.init_session()"
   ]
  },
  {
   "cell_type": "code",
   "execution_count": 2,
   "id": "34b13114-47a7-4431-b207-39a15dd6bd15",
   "metadata": {},
   "outputs": [
    {
     "name": "stderr",
     "output_type": "stream",
     "text": [
      "2024-06-06 14:35:31.504 Python[89613:1032999] WARNING: Secure coding is not enabled for restorable state! Enable secure coding by implementing NSApplicationDelegate.applicationSupportsSecureRestorableState: and returning YES.\n",
      "2024-06-06 14:35:31.508 Python[89613:1032999] *** Assertion failure in +[NSEvent otherEventWithType:location:modifierFlags:timestamp:windowNumber:context:subtype:data1:data2:], NSEvent.m:648\n",
      "XXX lineno: 677, opcode: 150\n",
      "ERROR:tornado.application:Exception in callback functools.partial(<function Kernel.enter_eventloop.<locals>.advance_eventloop at 0x10adc7f60>)\n",
      "Traceback (most recent call last):\n",
      "  File \"/Library/Frameworks/Python.framework/Versions/3.11/lib/python3.11/site-packages/tornado/ioloop.py\", line 738, in _run_callback\n",
      "    ret = callback()\n",
      "          ^^^^^^^^^^\n",
      "  File \"/Library/Frameworks/Python.framework/Versions/3.11/lib/python3.11/site-packages/ipykernel/kernelbase.py\", line 468, in advance_eventloop\n",
      "    eventloop(self)\n",
      "  File \"/Library/Frameworks/Python.framework/Versions/3.11/lib/python3.11/site-packages/ipykernel/eventloops.py\", line 353, in loop_cocoa\n",
      "    if kernel.shell_stream.flush(limit=1):\n",
      "       ^^^^^^^^^^^^^^^^^^^\n",
      "SystemError: unknown opcode\n"
     ]
    }
   ],
   "source": [
    "a,b = symbols(\"a b\")\n",
    "a = 1\n",
    "b = 3"
   ]
  }
 ],
 "metadata": {
  "kernelspec": {
   "display_name": "Python 3 (ipykernel)",
   "language": "python",
   "name": "python3"
  },
  "language_info": {
   "codemirror_mode": {
    "name": "ipython",
    "version": 3
   },
   "file_extension": ".py",
   "mimetype": "text/x-python",
   "name": "python",
   "nbconvert_exporter": "python",
   "pygments_lexer": "ipython3",
   "version": "3.11.2"
  }
 },
 "nbformat": 4,
 "nbformat_minor": 5
}