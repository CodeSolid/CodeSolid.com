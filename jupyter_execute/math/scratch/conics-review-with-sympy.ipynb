{
 "cells": [
  {
   "cell_type": "markdown",
   "id": "9ed37f39",
   "metadata": {},
   "source": [
    "# Conic Sections in Sympy, a Brief Introduction"
   ]
  },
  {
   "cell_type": "code",
   "execution_count": 1,
   "id": "f3ccde7f",
   "metadata": {},
   "outputs": [],
   "source": [
    "import matplotlib as mp\n",
    "from sympy import symbols, Eq, plot_implicit, latex"
   ]
  },
  {
   "cell_type": "code",
   "execution_count": 2,
   "id": "6500760a",
   "metadata": {},
   "outputs": [],
   "source": [
    "x, y, a,b = symbols(\"x y a b\")\n",
    "a = 1\n",
    "b = 3"
   ]
  },
  {
   "cell_type": "code",
   "execution_count": 3,
   "id": "82642a22",
   "metadata": {},
   "outputs": [],
   "source": [
    "# JCL Todo explain the functions\n",
    "\n",
    "ellipse =   (y**2)/(b**2) + (x**2)/(a**2) - 1 \n",
    "hyperbola = (y**2)/(b**2) - (x**2)/(a**2) - 1 \n",
    "\n",
    "# Another way to write the function without zeroing out one side.\n",
    "hyperbola2 = Eq((y**2)/(b**2) - (x**2)/(a**2), 1)"
   ]
  },
  {
   "cell_type": "code",
   "execution_count": 4,
   "id": "fb104375",
   "metadata": {},
   "outputs": [
    {
     "data": {
      "image/png": "[encoded data removed]",
      "text/plain": [
       "<Figure size 640x480 with 1 Axes>"
      ]
     },
     "metadata": {},
     "output_type": "display_data"
    }
   ],
   "source": [
    "# Could break code out during the explanation phase and then do each separately, \n",
    "# then combine the ellipse and hyperbola\n",
    "\n",
    "%matplotlib inline\n",
    "p1 = plot_implicit(ellipse, show=False, xlabel=\"\", ylabel=\"\")\n",
    "p2 = plot_implicit(hyperbola,show=False, xlabel=\"\", ylabel=\"\")\n",
    "p1.extend(p2)\n",
    "p1.show()"
   ]
  },
  {
   "cell_type": "code",
   "execution_count": 5,
   "id": "1d8f95e1",
   "metadata": {},
   "outputs": [
    {
     "ename": "NameError",
     "evalue": "name 'Circle' is not defined",
     "output_type": "error",
     "traceback": [
      "\u001b[0;31m---------------------------------------------------------------------------\u001b[0m",
      "\u001b[0;31mNameError\u001b[0m                                 Traceback (most recent call last)",
      "Cell \u001b[0;32mIn[5], line 4\u001b[0m\n\u001b[1;32m      1\u001b[0m \u001b[38;5;66;03m# Now do it Euclid's way\u001b[39;00m\n\u001b[1;32m      2\u001b[0m \u001b[38;5;66;03m# Note, it breaks down at  radii > 5 -- use that to introduce symplot\u001b[39;00m\n\u001b[0;32m----> 4\u001b[0m circle1 \u001b[38;5;241m=\u001b[39m \u001b[43mCircle\u001b[49m(Point(\u001b[38;5;241m0\u001b[39m,\u001b[38;5;241m0\u001b[39m), \u001b[38;5;241m5\u001b[39m)\n\u001b[1;32m      5\u001b[0m \u001b[38;5;28mprint\u001b[39m(circle1\u001b[38;5;241m.\u001b[39mcenter)\n\u001b[1;32m      6\u001b[0m \u001b[38;5;28mprint\u001b[39m(circle1\u001b[38;5;241m.\u001b[39mradius)\n",
      "\u001b[0;31mNameError\u001b[0m: name 'Circle' is not defined"
     ]
    }
   ],
   "source": [
    "# Now do it Euclid's way\n",
    "# Note, it breaks down at  radii > 5 -- use that to introduce symplot\n",
    "\n",
    "circle1 = Circle(Point(0,0), 5)\n",
    "print(circle1.center)\n",
    "print(circle1.radius)\n",
    "\n",
    "# Todo Show latex separately -- this is really an aside.\n",
    "# print(latex(circle1.equation()))\n",
    "print(circle1.equation())"
   ]
  },
  {
   "cell_type": "code",
   "execution_count": null,
   "id": "6774911c",
   "metadata": {},
   "outputs": [],
   "source": [
    "%matplotlib inline\n",
    "p = plot_implicit(circle1.equation(), show=False)\n",
    "p.aspect_ratio=(1,1) \n",
    "grid_max = 10\n",
    "grid_min = -10\n",
    "lims = (grid_min, grid_max)\n",
    "p.xlim = lims\n",
    "p.ylim = lims\n",
    "p.show()"
   ]
  },
  {
   "cell_type": "code",
   "execution_count": null,
   "id": "8091c127",
   "metadata": {},
   "outputs": [],
   "source": []
  }
 ],
 "metadata": {
  "jupytext": {
   "formats": "md:myst",
   "text_representation": {
    "extension": ".md",
    "format_name": "myst",
    "format_version": 0.13,
    "jupytext_version": "1.16.1"
   }
  },
  "kernelspec": {
   "display_name": "Python 3 (ipykernel)",
   "language": "python",
   "name": "python3"
  },
  "language_info": {
   "codemirror_mode": {
    "name": "ipython",
    "version": 3
   },
   "file_extension": ".py",
   "mimetype": "text/x-python",
   "name": "python",
   "nbconvert_exporter": "python",
   "pygments_lexer": "ipython3",
   "version": "3.11.2"
  },
  "source_map": [
   13,
   17,
   22,
   28,
   38,
   49,
   62,
   74
  ]
 },
 "nbformat": 4,
 "nbformat_minor": 5
}