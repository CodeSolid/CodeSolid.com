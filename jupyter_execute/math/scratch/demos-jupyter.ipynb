{
 "cells": [
  {
   "cell_type": "markdown",
   "id": "560d2634-c87a-46ae-8bc4-51f374f82db9",
   "metadata": {},
   "source": [
    "# Using Desmos Graphs in Jupyter Notebooks"
   ]
  },
  {
   "cell_type": "markdown",
   "id": "05dd73e3-241f-4e05-8f48-3600b2169ba5",
   "metadata": {},
   "source": []
  }
 ],
 "metadata": {
  "kernelspec": {
   "display_name": "Python 3 (ipykernel)",
   "language": "python",
   "name": "python3"
  },
  "language_info": {
   "codemirror_mode": {
    "name": "ipython",
    "version": 3
   },
   "file_extension": ".py",
   "mimetype": "text/x-python",
   "name": "python",
   "nbconvert_exporter": "python",
   "pygments_lexer": "ipython3",
   "version": "3.11.2"
  }
 },
 "nbformat": 4,
 "nbformat_minor": 5
}