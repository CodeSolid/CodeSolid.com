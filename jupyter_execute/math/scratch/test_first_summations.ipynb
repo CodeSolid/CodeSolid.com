{
 "cells": [
  {
   "cell_type": "markdown",
   "id": "528bc1a7",
   "metadata": {},
   "source": [
    "# A summation problem in SymPy."
   ]
  },
  {
   "cell_type": "markdown",
   "id": "ec501542",
   "metadata": {},
   "source": [
    "We have the following problem to solve:\n",
    "\n",
    "-----\n",
    "\n",
    "![problem](../../images/test_first_summation_problem.png)"
   ]
  },
  {
   "cell_type": "markdown",
   "id": "05083a35",
   "metadata": {},
   "source": [
    "Here's how the graph of the function looks over this interval:\n",
    "\n",
    "![graph of function size=50%](../../images/test_first_summations_graph.png)"
   ]
  },
  {
   "cell_type": "markdown",
   "id": "59770404",
   "metadata": {},
   "source": [
    "The function is descending."
   ]
  },
  {
   "cell_type": "code",
   "execution_count": 1,
   "id": "0cc3590d",
   "metadata": {},
   "outputs": [
    {
     "ename": "NameError",
     "evalue": "name 'x' is not defined",
     "output_type": "error",
     "traceback": [
      "\u001b[0;31m---------------------------------------------------------------------------\u001b[0m",
      "\u001b[0;31mNameError\u001b[0m                                 Traceback (most recent call last)",
      "Cell \u001b[0;32mIn[1], line 1\u001b[0m\n\u001b[0;32m----> 1\u001b[0m f \u001b[38;5;241m=\u001b[39m \u001b[38;5;241m6\u001b[39m \u001b[38;5;241m-\u001b[39m \u001b[38;5;241m2\u001b[39m\u001b[38;5;241m*\u001b[39m\u001b[43mx\u001b[49m\n",
      "\u001b[0;31mNameError\u001b[0m: name 'x' is not defined"
     ]
    }
   ],
   "source": [
    "f = 6 - 2*x"
   ]
  },
  {
   "cell_type": "code",
   "execution_count": null,
   "id": "1b76496a",
   "metadata": {},
   "outputs": [],
   "source": [
    "integrate(f, (x,1,2))"
   ]
  },
  {
   "cell_type": "code",
   "execution_count": null,
   "id": "2e6d693d",
   "metadata": {},
   "outputs": [],
   "source": [
    "def fn(x):\n",
    "    return 6 - 2*x"
   ]
  },
  {
   "cell_type": "code",
   "execution_count": null,
   "id": "189d5cbe",
   "metadata": {},
   "outputs": [],
   "source": [
    "def fn2(z):\n",
    "    return 4*z + 5\n",
    "\n",
    "#fn2a = sympify(str(fn2))\n",
    "summation(4*x + 5, (x, 1, 3))"
   ]
  },
  {
   "cell_type": "code",
   "execution_count": null,
   "id": "3c04f525",
   "metadata": {},
   "outputs": [],
   "source": [
    "summation(6 - 2*x, (x, 1, 5))"
   ]
  },
  {
   "cell_type": "code",
   "execution_count": null,
   "id": "ed54178b",
   "metadata": {},
   "outputs": [],
   "source": [
    "f"
   ]
  },
  {
   "cell_type": "code",
   "execution_count": null,
   "id": "449bcd96",
   "metadata": {},
   "outputs": [],
   "source": [
    "integrate(f)"
   ]
  },
  {
   "cell_type": "code",
   "execution_count": null,
   "id": "1c54ceb9",
   "metadata": {},
   "outputs": [],
   "source": [
    "integrate(f, (x, 10, 200))"
   ]
  },
  {
   "cell_type": "code",
   "execution_count": null,
   "id": "1aee483f",
   "metadata": {},
   "outputs": [],
   "source": [
    "f = -1/2 * (1/x**4)"
   ]
  },
  {
   "cell_type": "code",
   "execution_count": null,
   "id": "e7321972",
   "metadata": {},
   "outputs": [],
   "source": [
    "diff(f)"
   ]
  },
  {
   "cell_type": "code",
   "execution_count": null,
   "id": "41194eef",
   "metadata": {},
   "outputs": [],
   "source": [
    "f = 1/(-3*x**6)"
   ]
  },
  {
   "cell_type": "code",
   "execution_count": null,
   "id": "19fc58e0",
   "metadata": {},
   "outputs": [],
   "source": [
    "diff(f)"
   ]
  },
  {
   "cell_type": "code",
   "execution_count": null,
   "id": "79ad2722",
   "metadata": {},
   "outputs": [],
   "source": []
  }
 ],
 "metadata": {
  "jupytext": {
   "formats": "md:myst",
   "text_representation": {
    "extension": ".md",
    "format_name": "myst",
    "format_version": 0.13,
    "jupytext_version": "1.16.1"
   }
  },
  "kernelspec": {
   "display_name": "Python 3 (ipykernel)",
   "language": "python",
   "name": "python3"
  },
  "language_info": {
   "codemirror_mode": {
    "name": "ipython",
    "version": 3
   },
   "file_extension": ".py",
   "mimetype": "text/x-python",
   "name": "python",
   "nbconvert_exporter": "python",
   "pygments_lexer": "ipython3",
   "version": "3.11.2"
  },
  "source_map": [
   13,
   17,
   25,
   31,
   35,
   39,
   43,
   48,
   56,
   60,
   64,
   68,
   72,
   76,
   80,
   84,
   88
  ]
 },
 "nbformat": 4,
 "nbformat_minor": 5
}