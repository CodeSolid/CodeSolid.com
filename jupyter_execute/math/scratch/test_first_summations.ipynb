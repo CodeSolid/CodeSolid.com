{
 "cells": [
  {
   "cell_type": "markdown",
   "id": "43e11b1d",
   "metadata": {},
   "source": [
    "# A summation problem in SymPy."
   ]
  },
  {
   "cell_type": "markdown",
   "id": "878474b8",
   "metadata": {},
   "source": [
    "We have the following problem to solve:\n",
    "\n",
    "-----\n",
    "\n",
    "![problem](../../images/test_first_summation_problem.png)"
   ]
  },
  {
   "cell_type": "markdown",
   "id": "904caedb",
   "metadata": {},
   "source": [
    "Here's how the graph of the function looks over this interval:\n",
    "\n",
    "![graph of function size=50%](../../images/test_first_summations_graph.png)"
   ]
  },
  {
   "cell_type": "markdown",
   "id": "e22c6e20",
   "metadata": {},
   "source": [
    "The function is descending."
   ]
  },
  {
   "cell_type": "code",
   "execution_count": 1,
   "id": "25e5f355",
   "metadata": {},
   "outputs": [
    {
     "ename": "NameError",
     "evalue": "name 'x' is not defined",
     "output_type": "error",
     "traceback": [
      "\u001b[0;31m---------------------------------------------------------------------------\u001b[0m",
      "\u001b[0;31mNameError\u001b[0m                                 Traceback (most recent call last)",
      "Cell \u001b[0;32mIn[1], line 1\u001b[0m\n\u001b[0;32m----> 1\u001b[0m f \u001b[38;5;241m=\u001b[39m \u001b[38;5;241m6\u001b[39m \u001b[38;5;241m-\u001b[39m \u001b[38;5;241m2\u001b[39m\u001b[38;5;241m*\u001b[39m\u001b[43mx\u001b[49m\n",
      "\u001b[0;31mNameError\u001b[0m: name 'x' is not defined"
     ]
    }
   ],
   "source": [
    "f = 6 - 2*x"
   ]
  },
  {
   "cell_type": "code",
   "execution_count": null,
   "id": "9b0865a9",
   "metadata": {},
   "outputs": [],
   "source": [
    "integrate(f, (x,1,2))"
   ]
  },
  {
   "cell_type": "code",
   "execution_count": null,
   "id": "ece24e44",
   "metadata": {},
   "outputs": [],
   "source": [
    "def fn(x):\n",
    "    return 6 - 2*x"
   ]
  },
  {
   "cell_type": "code",
   "execution_count": null,
   "id": "a0e12436",
   "metadata": {},
   "outputs": [],
   "source": [
    "def fn2(z):\n",
    "    return 4*z + 5\n",
    "\n",
    "#fn2a = sympify(str(fn2))\n",
    "summation(4*x + 5, (x, 1, 3))"
   ]
  },
  {
   "cell_type": "code",
   "execution_count": null,
   "id": "48ab365b",
   "metadata": {},
   "outputs": [],
   "source": [
    "summation(6 - 2*x, (x, 1, 5))"
   ]
  },
  {
   "cell_type": "code",
   "execution_count": null,
   "id": "069e4e78",
   "metadata": {},
   "outputs": [],
   "source": [
    "f"
   ]
  },
  {
   "cell_type": "code",
   "execution_count": null,
   "id": "7053d293",
   "metadata": {},
   "outputs": [],
   "source": [
    "integrate(f)"
   ]
  },
  {
   "cell_type": "code",
   "execution_count": null,
   "id": "f9529633",
   "metadata": {},
   "outputs": [],
   "source": [
    "integrate(f, (x, 10, 200))"
   ]
  },
  {
   "cell_type": "code",
   "execution_count": null,
   "id": "d41cb894",
   "metadata": {},
   "outputs": [],
   "source": [
    "f = -1/2 * (1/x**4)"
   ]
  },
  {
   "cell_type": "code",
   "execution_count": null,
   "id": "48328929",
   "metadata": {},
   "outputs": [],
   "source": [
    "diff(f)"
   ]
  },
  {
   "cell_type": "code",
   "execution_count": null,
   "id": "52584931",
   "metadata": {},
   "outputs": [],
   "source": [
    "f = 1/(-3*x**6)"
   ]
  },
  {
   "cell_type": "code",
   "execution_count": null,
   "id": "5b200280",
   "metadata": {},
   "outputs": [],
   "source": [
    "diff(f)"
   ]
  },
  {
   "cell_type": "code",
   "execution_count": null,
   "id": "1a05f42b",
   "metadata": {},
   "outputs": [],
   "source": []
  }
 ],
 "metadata": {
  "jupytext": {
   "formats": "md:myst",
   "text_representation": {
    "extension": ".md",
    "format_name": "myst",
    "format_version": 0.13,
    "jupytext_version": "1.16.1"
   }
  },
  "kernelspec": {
   "display_name": "Python 3 (ipykernel)",
   "language": "python",
   "name": "python3"
  },
  "language_info": {
   "codemirror_mode": {
    "name": "ipython",
    "version": 3
   },
   "file_extension": ".py",
   "mimetype": "text/x-python",
   "name": "python",
   "nbconvert_exporter": "python",
   "pygments_lexer": "ipython3",
   "version": "3.11.2"
  },
  "source_map": [
   13,
   17,
   25,
   31,
   35,
   39,
   43,
   48,
   56,
   60,
   64,
   68,
   72,
   76,
   80,
   84,
   88
  ]
 },
 "nbformat": 4,
 "nbformat_minor": 5
}