{
 "cells": [
  {
   "cell_type": "code",
   "execution_count": 1,
   "id": "2077a0f4",
   "metadata": {},
   "outputs": [
    {
     "ename": "SyntaxError",
     "evalue": "unterminated string literal (detected at line 3) (1309373555.py, line 3)",
     "output_type": "error",
     "traceback": [
      "\u001b[0;36m  Cell \u001b[0;32mIn[1], line 3\u001b[0;36m\u001b[0m\n\u001b[0;31m    I don't\u001b[0m\n\u001b[0m         ^\u001b[0m\n\u001b[0;31mSyntaxError\u001b[0m\u001b[0;31m:\u001b[0m unterminated string literal (detected at line 3)\n"
     ]
    }
   ],
   "source": [
    "# A summation problem in SymPy.\n",
    "\n",
    "I don't "
   ]
  },
  {
   "cell_type": "markdown",
   "id": "6fdd5645",
   "metadata": {},
   "source": [
    "We have the following problem to solve:\n",
    "\n",
    "-----\n",
    "\n",
    "![problem](../../images/test_first_summation_problem.png)"
   ]
  },
  {
   "cell_type": "markdown",
   "id": "8db49a4c",
   "metadata": {},
   "source": [
    "Here's how the graph of the function looks over this interval:\n",
    "\n",
    "![graph of function size=50%](../../images/test_first_summations_graph.png)"
   ]
  },
  {
   "cell_type": "markdown",
   "id": "cbe24a99",
   "metadata": {},
   "source": [
    "The function is descending."
   ]
  },
  {
   "cell_type": "code",
   "execution_count": null,
   "id": "f17f9245",
   "metadata": {},
   "outputs": [],
   "source": [
    "f = 6 - 2*x"
   ]
  },
  {
   "cell_type": "code",
   "execution_count": null,
   "id": "f926395e",
   "metadata": {},
   "outputs": [],
   "source": [
    "integrate(f, (x,1,2))"
   ]
  },
  {
   "cell_type": "code",
   "execution_count": null,
   "id": "19a6b2dd",
   "metadata": {},
   "outputs": [],
   "source": [
    "def fn(x):\n",
    "    return 6 - 2*x"
   ]
  },
  {
   "cell_type": "code",
   "execution_count": null,
   "id": "38426637",
   "metadata": {},
   "outputs": [],
   "source": [
    "def fn2(z):\n",
    "    return 4*z + 5\n",
    "\n",
    "#fn2a = sympify(str(fn2))\n",
    "summation(4*x + 5, (x, 1, 3))"
   ]
  },
  {
   "cell_type": "code",
   "execution_count": null,
   "id": "54f57478",
   "metadata": {},
   "outputs": [],
   "source": [
    "summation(6 - 2*x, (x, 1, 5))"
   ]
  },
  {
   "cell_type": "code",
   "execution_count": null,
   "id": "1077b124",
   "metadata": {},
   "outputs": [],
   "source": [
    "f"
   ]
  },
  {
   "cell_type": "code",
   "execution_count": null,
   "id": "35a282a2",
   "metadata": {},
   "outputs": [],
   "source": [
    "integrate(f)"
   ]
  },
  {
   "cell_type": "code",
   "execution_count": null,
   "id": "0444569a",
   "metadata": {},
   "outputs": [],
   "source": [
    "integrate(f, (x, 10, 200))"
   ]
  },
  {
   "cell_type": "code",
   "execution_count": null,
   "id": "2e324132",
   "metadata": {},
   "outputs": [],
   "source": [
    "f = -1/2 * (1/x**4)"
   ]
  },
  {
   "cell_type": "code",
   "execution_count": null,
   "id": "51eb28c9",
   "metadata": {},
   "outputs": [],
   "source": [
    "diff(f)"
   ]
  },
  {
   "cell_type": "code",
   "execution_count": null,
   "id": "41dda6d2",
   "metadata": {},
   "outputs": [],
   "source": [
    "f = 1/(-3*x**6)"
   ]
  },
  {
   "cell_type": "code",
   "execution_count": null,
   "id": "10205a36",
   "metadata": {},
   "outputs": [],
   "source": [
    "diff(f)"
   ]
  },
  {
   "cell_type": "code",
   "execution_count": null,
   "id": "1b915551",
   "metadata": {},
   "outputs": [],
   "source": []
  }
 ],
 "metadata": {
  "jupytext": {
   "formats": "md:myst",
   "text_representation": {
    "extension": ".md",
    "format_name": "myst",
    "format_version": 0.13,
    "jupytext_version": "1.16.1"
   }
  },
  "kernelspec": {
   "display_name": "Python 3 (ipykernel)",
   "language": "python",
   "name": "python3"
  },
  "language_info": {
   "codemirror_mode": {
    "name": "ipython",
    "version": 3
   },
   "file_extension": ".py",
   "mimetype": "text/x-python",
   "name": "python",
   "nbconvert_exporter": "python",
   "pygments_lexer": "ipython3",
   "version": "3.11.2"
  },
  "source_map": [
   15,
   19,
   27,
   33,
   37,
   41,
   45,
   50,
   58,
   62,
   66,
   70,
   74,
   78,
   82,
   86,
   90
  ]
 },
 "nbformat": 4,
 "nbformat_minor": 5
}