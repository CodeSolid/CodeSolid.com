{
 "cells": [
  {
   "cell_type": "code",
   "execution_count": 1,
   "id": "da2f85ef",
   "metadata": {},
   "outputs": [
    {
     "ename": "SyntaxError",
     "evalue": "unterminated string literal (detected at line 3) (1309373555.py, line 3)",
     "output_type": "error",
     "traceback": [
      "\u001b[0;36m  Cell \u001b[0;32mIn[1], line 3\u001b[0;36m\u001b[0m\n\u001b[0;31m    I don't\u001b[0m\n\u001b[0m         ^\u001b[0m\n\u001b[0;31mSyntaxError\u001b[0m\u001b[0;31m:\u001b[0m unterminated string literal (detected at line 3)\n"
     ]
    }
   ],
   "source": [
    "# A summation problem in SymPy.\n",
    "\n",
    "I don't "
   ]
  },
  {
   "cell_type": "markdown",
   "id": "72151638",
   "metadata": {},
   "source": [
    "We have the following problem to solve:\n",
    "\n",
    "-----\n",
    "\n",
    "![problem](../../images/test_first_summation_problem.png)"
   ]
  },
  {
   "cell_type": "markdown",
   "id": "817cdcaf",
   "metadata": {},
   "source": [
    "Here's how the graph of the function looks over this interval:\n",
    "\n",
    "![graph of function size=50%](../../images/test_first_summations_graph.png)"
   ]
  },
  {
   "cell_type": "markdown",
   "id": "f9958542",
   "metadata": {},
   "source": [
    "The function is descending."
   ]
  },
  {
   "cell_type": "code",
   "execution_count": null,
   "id": "184767d0",
   "metadata": {},
   "outputs": [],
   "source": [
    "f = 6 - 2*x"
   ]
  },
  {
   "cell_type": "code",
   "execution_count": null,
   "id": "c2091024",
   "metadata": {},
   "outputs": [],
   "source": [
    "integrate(f, (x,1,2))"
   ]
  },
  {
   "cell_type": "code",
   "execution_count": null,
   "id": "41125673",
   "metadata": {},
   "outputs": [],
   "source": [
    "def fn(x):\n",
    "    return 6 - 2*x"
   ]
  },
  {
   "cell_type": "code",
   "execution_count": null,
   "id": "d34bb133",
   "metadata": {},
   "outputs": [],
   "source": [
    "def fn2(z):\n",
    "    return 4*z + 5\n",
    "\n",
    "#fn2a = sympify(str(fn2))\n",
    "summation(4*x + 5, (x, 1, 3))"
   ]
  },
  {
   "cell_type": "code",
   "execution_count": null,
   "id": "61f3fb13",
   "metadata": {},
   "outputs": [],
   "source": [
    "summation(6 - 2*x, (x, 1, 5))"
   ]
  },
  {
   "cell_type": "code",
   "execution_count": null,
   "id": "2715d9a0",
   "metadata": {},
   "outputs": [],
   "source": [
    "f"
   ]
  },
  {
   "cell_type": "code",
   "execution_count": null,
   "id": "f5ec795f",
   "metadata": {},
   "outputs": [],
   "source": [
    "integrate(f)"
   ]
  },
  {
   "cell_type": "code",
   "execution_count": null,
   "id": "86c0145d",
   "metadata": {},
   "outputs": [],
   "source": [
    "integrate(f, (x, 10, 200))"
   ]
  },
  {
   "cell_type": "code",
   "execution_count": null,
   "id": "249f2b65",
   "metadata": {},
   "outputs": [],
   "source": [
    "f = -1/2 * (1/x**4)"
   ]
  },
  {
   "cell_type": "code",
   "execution_count": null,
   "id": "307172e7",
   "metadata": {},
   "outputs": [],
   "source": [
    "diff(f)"
   ]
  },
  {
   "cell_type": "code",
   "execution_count": null,
   "id": "63b76a0c",
   "metadata": {},
   "outputs": [],
   "source": [
    "f = 1/(-3*x**6)"
   ]
  },
  {
   "cell_type": "code",
   "execution_count": null,
   "id": "9dd726b7",
   "metadata": {},
   "outputs": [],
   "source": [
    "diff(f)"
   ]
  },
  {
   "cell_type": "code",
   "execution_count": null,
   "id": "a37ceb1d",
   "metadata": {},
   "outputs": [],
   "source": []
  }
 ],
 "metadata": {
  "jupytext": {
   "formats": "md:myst",
   "text_representation": {
    "extension": ".md",
    "format_name": "myst",
    "format_version": 0.13,
    "jupytext_version": "1.16.1"
   }
  },
  "kernelspec": {
   "display_name": "Python 3 (ipykernel)",
   "language": "python",
   "name": "python3"
  },
  "language_info": {
   "codemirror_mode": {
    "name": "ipython",
    "version": 3
   },
   "file_extension": ".py",
   "mimetype": "text/x-python",
   "name": "python",
   "nbconvert_exporter": "python",
   "pygments_lexer": "ipython3",
   "version": "3.11.2"
  },
  "source_map": [
   15,
   19,
   27,
   33,
   37,
   41,
   45,
   50,
   58,
   62,
   66,
   70,
   74,
   78,
   82,
   86,
   90
  ]
 },
 "nbformat": 4,
 "nbformat_minor": 5
}