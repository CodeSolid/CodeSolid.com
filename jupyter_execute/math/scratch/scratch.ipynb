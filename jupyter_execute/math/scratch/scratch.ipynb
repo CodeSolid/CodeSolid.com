{
 "cells": [
  {
   "cell_type": "code",
   "execution_count": 1,
   "id": "24b3bba2-61f1-45ec-b012-027ff195e406",
   "metadata": {},
   "outputs": [],
   "source": [
    "# From https://stackoverflow.com/questions/60325325/putting-together-plots-of-matplotlib-and-sympy\n",
    "# Untested\n",
    "\n",
    "def move_sympyplot_to_axes(p, ax):\n",
    "    backend = p.backend(p)\n",
    "    backend.ax = ax\n",
    "    backend._process_series(backend.parent._series, ax, backend.parent)  # backend.process_series() no longer works\n",
    "    backend.ax.spines['right'].set_color('none')\n",
    "    backend.ax.spines['bottom'].set_position('zero')\n",
    "    backend.ax.spines['top'].set_color('none')\n",
    "    plt.close(backend.fig)"
   ]
  },
  {
   "cell_type": "code",
   "execution_count": 2,
   "id": "6273f685-6434-4f7e-8046-fb3201cd20f0",
   "metadata": {},
   "outputs": [],
   "source": [
    "# def linear(x, m=2, b = -1):\n",
    "#      \"\"\"A function to plot an arbitrary point (x) on a line.\"\"\"\n",
    "#      return m * x + b"
   ]
  },
  {
   "cell_type": "markdown",
   "id": "0098b17f-37a5-4ec2-95ac-c3e8c216e38e",
   "metadata": {},
   "source": [
    "See this page:\n",
    "https://www.cfm.brown.edu/people/dobrush/am33/SymPy/part1.html#plotting-geometric-entities"
   ]
  },
  {
   "cell_type": "markdown",
   "id": "99c54b9e-a35b-4a80-91f4-582b42bc1439",
   "metadata": {},
   "source": [
    "# Circle graph by itself"
   ]
  },
  {
   "cell_type": "code",
   "execution_count": 3,
   "id": "fca7121d-12aa-4712-9854-6cb730ec68de",
   "metadata": {},
   "outputs": [],
   "source": [
    "import numpy as np\n",
    "import matplotlib.pyplot as plt\n",
    "\n",
    "# theta goes from 0 to 2pi\n",
    "theta = np.linspace(0, 2*np.pi, 200)\n",
    "\n",
    "# the radius of the circle\n",
    "r = 10\n",
    "\n",
    "# compute x1 and x2\n",
    "x = r*np.cos(theta)\n",
    "y = r*np.sin(theta)\n",
    "\n",
    "# create the figure\n",
    "fig, ax = plt.subplots(1)\n",
    "ax.plot(x, y)\n",
    "ax.set_aspect(1)\n",
    "plt.show()"
   ]
  },
  {
   "cell_type": "code",
   "execution_count": null,
   "id": "5cabf743-dcf5-47b3-9355-55fc6d7a9755",
   "metadata": {},
   "outputs": [],
   "source": []
  }
 ],
 "metadata": {
  "kernelspec": {
   "display_name": "Python 3 (ipykernel)",
   "language": "python",
   "name": "python3"
  },
  "language_info": {
   "codemirror_mode": {
    "name": "ipython",
    "version": 3
   },
   "file_extension": ".py",
   "mimetype": "text/x-python",
   "name": "python",
   "nbconvert_exporter": "python",
   "pygments_lexer": "ipython3",
   "version": "3.12.3"
  }
 },
 "nbformat": 4,
 "nbformat_minor": 5
}