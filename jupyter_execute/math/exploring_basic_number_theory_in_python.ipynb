{
 "cells": [
  {
   "cell_type": "markdown",
   "id": "24417134",
   "metadata": {},
   "source": [
    "# Exploring Basic Number Theory in Python\n",
    "\n",
    "\n",
    "As a beginning undergraduate in math, I really appreciate good math writing. That's why when the excellent author of [Introduction to Graph Theory](https://www.amazon.com/Introduction-Graph-Theory-Dover-Mathematics/dp/0486678709), Richard Trudeau, hailed [What Is Mathematics](https://www.amazon.com/What-Mathematics-Elementary-Approach-Methods-ebook/dp/B000SEKHFG) as \"one of the best all-around mathematics textbooks since Euclid,\" I recognized that as my marching orders, so I picked up a copy and began reading.\n",
    "\n",
    "I found this book worthwhile enough to begin working on the exercises instead of just reading through and \"skimming.\"  The supplement to chapter 1 covered Number Theory, and as soon as I began grappling with these, I wanted to try out some things in Python.  This article is just an attempt to share some of those explorations.  (I'll be doing some \"beginner explorations\" in this article.  If you're more advanced, you might consider exploring SymPy's [ntheory package](https://docs.sympy.org/latest/modules/ntheory.html).\n",
    "\n",
    "The discussion in the What is Mathematics section on Number Theory began with the idea of congruence.  Programmers are familiar with the modulus operator, %, which gives the remainder left over after an integer division of the operands.  For example:"
   ]
  },
  {
   "cell_type": "code",
   "execution_count": 1,
   "id": "30073407",
   "metadata": {},
   "outputs": [
    {
     "data": {
      "text/plain": [
       "True"
      ]
     },
     "execution_count": 1,
     "metadata": {},
     "output_type": "execute_result"
    }
   ],
   "source": [
    "10 % 3 == 1"
   ]
  },
  {
   "cell_type": "markdown",
   "id": "99ff08d1",
   "metadata": {},
   "source": [
    "In number theory, we say that two numbers, $a$ and $b$ are congruent with respect to a given modulus, $d$, if they give the same remainder. We write this as:\n",
    "\n",
    "$$ a \\equiv b \\space (mod \\space d) $$\n",
    "\n",
    "For example, given a modulus of 3, we can see that both 7 and 10 divided by three both leave a remainder of 1, so we can say:\n",
    "\n",
    "$$ 10 \\equiv 7 \\space (mod \\space 3) $$\n",
    "\n",
    "If this isn't obvious enough by inspection, we can test it trivially in Python:"
   ]
  },
  {
   "cell_type": "code",
   "execution_count": 2,
   "id": "d19e83e6",
   "metadata": {},
   "outputs": [
    {
     "name": "stdout",
     "output_type": "stream",
     "text": [
      "True\n",
      "False\n"
     ]
    }
   ],
   "source": [
    "def is_congruent(a, b, modulus):\n",
    "    \"\"\"Test whether two numbers, a and b, are congruent for the given modulus\"\"\"\n",
    "    return a % modulus == b % modulus\n",
    "\n",
    "print(is_congruent(7, 10, 3))  # OK, 1 == 1\n",
    "print(is_congruent(7, 10, 4))  # NO!  7 mod 4 is 3, while 10 mod 4 is 2!"
   ]
  },
  {
   "cell_type": "markdown",
   "id": "06a788a0",
   "metadata": {},
   "source": [
    "Many interesting properties apply to the congruence relation numbers, which are similar to properties that apply to equivalence.\n",
    "\n",
    "_What Is Mathematics_ goes through these properties, so I won't reproduce them here, but they generate many interesting results.  For example, congruent numbers can be added and multiplied; for any given modulus, we can construct tables to understand the results. We have some day-to-day experience with doing this in mod 12, where we know that if it's 10:00 AM now, five hours from now, it won't be 15:00 (unless you're in the military).  Instead, it will be 3 PM because $15 \\bmod 12 = 3$.\n",
    "\n",
    "To give an example that the authors didn't discuss, you may have learned in school that if the digits of a number add up to nine, the number is evenly divisible by nine.  Thus, 27 is divisible by nine because $2 + 7 = 9$. Because we're dealing with base 10 (where the digit choices are 0-9), the remainder after division by 9 is the same as you get from the sum of a number's digits:\n",
    "\n",
    "For example, $139 \\bmod 9 = 4$, and $1 + 3 + 9 = 13$.  We can see that 13 divided by nine gives a remainder of four, which we can also obtain by a second digit sum, i.e., $1 + 3 = 4$"
   ]
  },
  {
   "cell_type": "markdown",
   "id": "64097721",
   "metadata": {},
   "source": [
    "## Solving a problem by hand and checking it in SymPy\n",
    "\n",
    "One of the exercises in *What is Mathematics* was this:  \"To what number between 0 and 4 inclusive is the sum of $1 + 2^2 + 2^3 + ... 2^{18}$ congruent (mod 5)?\"\n",
    "\n",
    "In my first attempt to solve this, I tried to find a pattern in the first few terms to see if it was any help:\n",
    "\n",
    "Here's the table I made for the modulus of those terms:\n",
    "\n",
    "|Term|modulus 5|\n",
    "|----|---------|\n",
    "|1|1|\n",
    "|2|2|\n",
    "|4|4|\n",
    "|8|3|\n",
    "|16|1|\n",
    "|32|2|\n",
    "|64|4|\n",
    "|128|3|\n",
    "\n",
    "Looking at the right-hand column, we see that the modulus terms repeat in groups of 4, as follows:  (1, 2, 4, 3).\n",
    "\n",
    "Since the four repeating terms add up to 10, and $10 \\equiv 0 \\space (\\bmod 5)$, and since $2^18$ is the term we're concerned with, and since the series is based on zero rather than one, we'll have three terms left over at the end.  I therefore reasoned that the second modulus of the sequence we showed above should give us the answer:  $\\boxed{2}$.  This will turn out to be wrong, but bear with me.\n",
    "\n",
    "To check the answer in Python, I thought it was a great time to figure out how summations worked in SymPy. In general, SymPy is my go-to tool for checking results in Calculus. Now, for this problem, we'll see in a minute that that approach is a bit overengineered since Python will also get us there directly, but let's try SymPy first.\n",
    "\n",
    "The series in the exercise can also be written as:\n",
    "\n",
    "$\\sum\\limits_{i=0}^{18} 2^i$\n",
    "\n",
    "Checking the documentation for the summation function in SymPy, we learn we can translate that into Python as `summation(2**i, (i, 0, 18))`, i.e., `summation(function, (variable, start, stop))`."
   ]
  },
  {
   "cell_type": "code",
   "execution_count": 3,
   "id": "957bb202",
   "metadata": {},
   "outputs": [
    {
     "name": "stdout",
     "output_type": "stream",
     "text": [
      "524287\n"
     ]
    }
   ],
   "source": [
    "import sympy as sp\n",
    "i = sp.symbols('i', integer=True)\n",
    "result = sp.summation(2**i, (i, 0, 18))\n",
    "print(result)"
   ]
  },
  {
   "cell_type": "markdown",
   "id": "6aeafbdc",
   "metadata": {},
   "source": [
    "Since I've been working with congruences today, it's obvious to me that 524287 mod 5 should be 2 (because 7 mod 5 is 2), but let's show it in Python in case its not obvious to you:"
   ]
  },
  {
   "cell_type": "code",
   "execution_count": 4,
   "id": "6577a67b",
   "metadata": {},
   "outputs": [
    {
     "name": "stdout",
     "output_type": "stream",
     "text": [
      "2\n"
     ]
    }
   ],
   "source": [
    "print(result % 5)"
   ]
  },
  {
   "cell_type": "markdown",
   "id": "f52385d2",
   "metadata": {},
   "source": [
    "(As I mentioned, I wanted to try out the summation feature of Sympy, but we didn't need SymPy otherwise. We can achieve the same result with the Python runtime library quite easily, as shown below)."
   ]
  },
  {
   "cell_type": "code",
   "execution_count": 5,
   "id": "9cd45701",
   "metadata": {},
   "outputs": [
    {
     "name": "stdout",
     "output_type": "stream",
     "text": [
      "524287\n"
     ]
    }
   ],
   "source": [
    "result = sum([2**x for x in range(0, 19)])\n",
    "print(result)"
   ]
  },
  {
   "cell_type": "markdown",
   "id": "d4678722",
   "metadata": {},
   "source": [
    "In addition to dealing with infinite series, SymPy's summation function also has the advantage of using the full closed range we're dealing with rather than the half-open range, $[0, 10)$.\n",
    "\n",
    "Whether we use SymPy or a simple list comprehension, the answer we arrived at by grouping terms seems to check out, but let's verify that it's not a fluke. If it's not, the next term in the sequence should match up with the next term in our group of four.  That is, if we're not just lucky, we should find $2^{19} \\equiv 4 \\bmod 5$\n",
    "\n",
    "In other words, the following should return the number four:"
   ]
  },
  {
   "cell_type": "code",
   "execution_count": 6,
   "id": "c6ba54bd",
   "metadata": {},
   "outputs": [
    {
     "data": {
      "image/png": "[encoded data removed]",
      "text/latex": [
       "$\\displaystyle 0$"
      ],
      "text/plain": [
       "0"
      ]
     },
     "execution_count": 6,
     "metadata": {},
     "output_type": "execute_result"
    }
   ],
   "source": [
    "sp.summation(2**i, (i, 0, 19)) % 5"
   ]
  },
  {
   "cell_type": "markdown",
   "id": "102a3003",
   "metadata": {},
   "source": [
    "Well, OK, that's clearly not a four.  So, up to this point, I've learned I was right about $2^{18}$ but not for $2^{19}$, so by dumb luck, I had arrived at the right answer for $2^{18}$ with the wrong reasoning.\n",
    "\n",
    "Fortunately, because I was summing the terms now to check my answer, it quickly occurred to me that the trouble with my algorithm might be that I was looking for a pattern in the individual terms rather than the series.  I decided to write a bit of code to see if I could detect a pattern in the sum of the terms instead."
   ]
  },
  {
   "cell_type": "code",
   "execution_count": 7,
   "id": "b2f93376",
   "metadata": {},
   "outputs": [
    {
     "name": "stdout",
     "output_type": "stream",
     "text": [
      "1\n",
      "3\n",
      "2\n",
      "0\n",
      "1\n",
      "3\n",
      "2\n",
      "0\n",
      "1\n",
      "3\n"
     ]
    }
   ],
   "source": [
    "for x in range(0, 10):\n",
    "    print(sp.summation(2**i, (i, 0, x)) %5)"
   ]
  },
  {
   "cell_type": "markdown",
   "id": "c7a92c86",
   "metadata": {},
   "source": [
    "That's better.  Here the fourth term in the repeating sequence is 0, not 4.  This agrees with the result we got for $2^{19}$.  Let's do one final (inductive) check to make sure the algorithm seems to hold true for other terms as the series grows.  To do this we can run the summation, then see if the summation modulo 5 (what we call below the actual value) matches what we expect to see based on a repeated pattern (expected):"
   ]
  },
  {
   "cell_type": "code",
   "execution_count": 8,
   "id": "8e00ec5c",
   "metadata": {},
   "outputs": [
    {
     "name": "stdout",
     "output_type": "stream",
     "text": [
      "Testing up to 2^100\n",
      "Test passed? True\n"
     ]
    }
   ],
   "source": [
    "pattern = [1,3,2,0]\n",
    "\n",
    "terms_to_check = 100\n",
    "passed = True\n",
    "\n",
    "print(\"Testing up to 2^{0}\".format(terms_to_check))\n",
    "for x in range(0, terms_to_check):\n",
    "    # Our expected value for the summation of the series:\n",
    "    actual = sp.summation(2**i, (i, 0, x)) % 5\n",
    "\n",
    "    # Try matching the actual modulus value against our pattern using our \"algorithm\":\n",
    "    index = x % len(pattern)\n",
    "    expected = pattern[index]\n",
    "\n",
    "    # Check\n",
    "    if actual != expected:\n",
    "        passed = False\n",
    "\n",
    "print(\"Test passed?\", passed)"
   ]
  },
  {
   "cell_type": "markdown",
   "id": "213a46dc",
   "metadata": {},
   "source": [
    "This is just one of the explorations my reading of *What Is Mathematics* has suggested so far.  It's such a rich motherlode of math gems that I could easily spend a year playing with the ideas I'm learning from this one book.  Since I don't have time to do that right at the moment with my university math courses, I'll leave this one little article as yet another example of how Python helps me save myself from those many math errors I make either in calculation steps or in fundamental concepts."
   ]
  },
  {
   "cell_type": "code",
   "execution_count": null,
   "id": "443f5c1d",
   "metadata": {},
   "outputs": [],
   "source": []
  }
 ],
 "metadata": {
  "jupytext": {
   "formats": "md:myst",
   "text_representation": {
    "extension": ".md",
    "format_name": "myst",
    "format_version": 0.13,
    "jupytext_version": "1.16.1"
   }
  },
  "kernelspec": {
   "display_name": "Python 3 (ipykernel)",
   "language": "python",
   "name": "python3"
  },
  "language_info": {
   "codemirror_mode": {
    "name": "ipython",
    "version": 3
   },
   "file_extension": ".py",
   "mimetype": "text/x-python",
   "name": "python",
   "nbconvert_exporter": "python",
   "pygments_lexer": "ipython3",
   "version": "3.11.2"
  },
  "source_map": [
   13,
   24,
   26,
   38,
   45,
   55,
   88,
   93,
   97,
   99,
   103,
   106,
   114,
   116,
   122,
   125,
   129,
   149,
   153
  ]
 },
 "nbformat": 4,
 "nbformat_minor": 5
}