{
 "cells": [
  {
   "cell_type": "markdown",
   "id": "d805cad2",
   "metadata": {},
   "source": [
    "# Created in JupyterLab with JupyText\n",
    "\n",
    "![image.png](attachment:c8fb9c9d-0629-41bc-b379-dd27460aee03.png)"
   ]
  },
  {
   "cell_type": "code",
   "execution_count": 1,
   "id": "e99c04d7",
   "metadata": {},
   "outputs": [
    {
     "name": "stdout",
     "output_type": "stream",
     "text": [
      "Hello\n",
      "Ten = 10\n"
     ]
    }
   ],
   "source": [
    "# This should be Python?\n",
    "print(\"Hello\")\n",
    "print(\"Ten =\", 0b1010)"
   ]
  }
 ],
 "metadata": {
  "jupytext": {
   "formats": "md:myst",
   "text_representation": {
    "extension": ".md",
    "format_name": "myst",
    "format_version": 0.13,
    "jupytext_version": "1.16.1"
   }
  },
  "kernelspec": {
   "display_name": "Python 3 (ipykernel)",
   "language": "python",
   "name": "python3"
  },
  "language_info": {
   "codemirror_mode": {
    "name": "ipython",
    "version": 3
   },
   "file_extension": ".py",
   "mimetype": "text/x-python",
   "name": "python",
   "nbconvert_exporter": "python",
   "pygments_lexer": "ipython3",
   "version": "3.11.2"
  },
  "source_map": [
   13,
   19
  ]
 },
 "nbformat": 4,
 "nbformat_minor": 5
}