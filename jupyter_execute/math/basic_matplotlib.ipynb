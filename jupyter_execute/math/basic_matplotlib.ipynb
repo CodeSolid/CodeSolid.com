{
 "cells": [
  {
   "cell_type": "markdown",
   "id": "b49fffb5",
   "metadata": {},
   "source": [
    "# Your Header here"
   ]
  },
  {
   "cell_type": "code",
   "execution_count": 1,
   "id": "6dd85e97",
   "metadata": {},
   "outputs": [],
   "source": [
    "import matplotlib as plt\n",
    "\n",
    "# Your code here"
   ]
  }
 ],
 "metadata": {
  "file_format": "mystnb",
  "kernelspec": {
   "display_name": "python3",
   "name": "python3"
  },
  "language_info": {
   "codemirror_mode": {
    "name": "ipython",
    "version": 3
   },
   "file_extension": ".py",
   "mimetype": "text/x-python",
   "name": "python",
   "nbconvert_exporter": "python",
   "pygments_lexer": "ipython3",
   "version": "3.11.2"
  },
  "source_map": [
   5,
   8
  ]
 },
 "nbformat": 4,
 "nbformat_minor": 5
}