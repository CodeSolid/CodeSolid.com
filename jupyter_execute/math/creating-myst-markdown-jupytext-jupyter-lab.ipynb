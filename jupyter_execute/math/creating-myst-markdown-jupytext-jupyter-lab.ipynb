{
 "cells": [
  {
   "cell_type": "markdown",
   "id": "29810669",
   "metadata": {},
   "source": [
    "# Created in JupyterLab with JupyText\n",
    "\n",
    "![image.png](attachment:c8fb9c9d-0629-41bc-b379-dd27460aee03.png)"
   ]
  },
  {
   "cell_type": "code",
   "execution_count": null,
   "id": "ef78ad30",
   "metadata": {},
   "outputs": [],
   "source": []
  }
 ],
 "metadata": {
  "jupytext": {
   "formats": "md:myst",
   "text_representation": {
    "extension": ".md",
    "format_name": "myst",
    "format_version": 0.13,
    "jupytext_version": "1.16.1"
   }
  },
  "kernelspec": {
   "display_name": "Python 3 (ipykernel)",
   "language": "python",
   "name": "python3"
  },
  "language_info": {
   "codemirror_mode": {
    "name": "ipython",
    "version": 3
   },
   "file_extension": ".py",
   "mimetype": "text/x-python",
   "name": "python",
   "nbconvert_exporter": "python",
   "pygments_lexer": "ipython3",
   "version": "3.11.2"
  },
  "source_map": [
   13,
   19
  ]
 },
 "nbformat": 4,
 "nbformat_minor": 5
}