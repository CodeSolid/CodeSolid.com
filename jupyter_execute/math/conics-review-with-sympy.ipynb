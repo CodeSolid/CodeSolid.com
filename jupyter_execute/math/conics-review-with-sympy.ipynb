{
 "cells": [
  {
   "cell_type": "code",
   "execution_count": 1,
   "id": "a8a51081",
   "metadata": {},
   "outputs": [
    {
     "name": "stdout",
     "output_type": "stream",
     "text": [
      "IPython console for SymPy 1.12 (Python 3.11.2-64-bit) (ground types: python)\n",
      "\n",
      "These commands were executed:\n",
      ">>> from sympy import *\n",
      ">>> x, y, z, t = symbols('x y z t')\n",
      ">>> k, m, n = symbols('k m n', integer=True)\n",
      ">>> f, g, h = symbols('f g h', cls=Function)\n",
      ">>> init_printing()\n",
      "\n",
      "Documentation can be found at https://docs.sympy.org/1.12/\n",
      "\n"
     ]
    }
   ],
   "source": [
    "import sympy as sp\n",
    "import matplotlib as mp\n",
    "sp.init_session()"
   ]
  },
  {
   "cell_type": "code",
   "execution_count": 2,
   "id": "635d455a",
   "metadata": {},
   "outputs": [
    {
     "name": "stdout",
     "output_type": "stream",
     "text": [
      "Requirement already satisfied: plotly in /Users/johnlockwood/source/JohnLockwood/johnlockwood.github.io/.venv/lib/python3.11/site-packages (5.18.0)\r\n",
      "Requirement already satisfied: tenacity>=6.2.0 in /Users/johnlockwood/source/JohnLockwood/johnlockwood.github.io/.venv/lib/python3.11/site-packages (from plotly) (8.2.3)\r\n",
      "Requirement already satisfied: packaging in /Users/johnlockwood/source/JohnLockwood/johnlockwood.github.io/.venv/lib/python3.11/site-packages (from plotly) (23.2)\r\n"
     ]
    },
    {
     "name": "stdout",
     "output_type": "stream",
     "text": [
      "Note: you may need to restart the kernel to use updated packages.\n"
     ]
    }
   ],
   "source": [
    "%pip install plotly"
   ]
  },
  {
   "cell_type": "code",
   "execution_count": 3,
   "id": "bff4f728",
   "metadata": {},
   "outputs": [],
   "source": [
    "a,b = symbols(\"a b\")"
   ]
  },
  {
   "cell_type": "code",
   "execution_count": 4,
   "id": "1e5b530d",
   "metadata": {},
   "outputs": [],
   "source": [
    "a = 1\n",
    "b = 3"
   ]
  },
  {
   "cell_type": "code",
   "execution_count": 5,
   "id": "acf27445",
   "metadata": {},
   "outputs": [],
   "source": [
    "ellipse =   (y**2)/(b**2) + (x**2)/(a**2) - 1 \n",
    "hyperbola = (y**2)/(b**2) - (x**2)/(a**2) - 1 \n",
    "\n",
    "# Another way to write function without zeroing out one side.\n",
    "hyperbola2 = Eq((y**2)/(b**2) - (x**2)/(a**2), 1)\n",
    "\n",
    "#focus1 = Point(-a, 0)\n",
    "#focus2 = Point(a, 0)"
   ]
  },
  {
   "cell_type": "code",
   "execution_count": 6,
   "id": "1a92f18b",
   "metadata": {},
   "outputs": [],
   "source": [
    "#%matplotlib inline\n",
    "p1 = plot_implicit(ellipse, show=False, xlabel=\"\", ylabel=\"\")\n",
    "p2 = plot_implicit(hyperbola,show=False, xlabel=\"\", ylabel=\"\")\n",
    "#p3 = plot_implicit(line,show=False, xlabel=\"\", ylabel=\"\")\n",
    "#p4 = plot(1, show=False, xlabel=\"\", ylabel=\"\", line_color=\"red\")\n",
    "\n",
    "plot_implicit??\n",
    "p1.extend(p2)\n",
    "#p1.extend(p3)\n",
    "#p1.extend(p4)\n",
    "p1.show()"
   ]
  },
  {
   "cell_type": "code",
   "execution_count": null,
   "id": "4f3ef377",
   "metadata": {},
   "outputs": [],
   "source": []
  },
  {
   "cell_type": "code",
   "execution_count": null,
   "id": "43da921c",
   "metadata": {},
   "outputs": [],
   "source": []
  }
 ],
 "metadata": {
  "jupytext": {
   "formats": "md:myst",
   "text_representation": {
    "extension": ".md",
    "format_name": "myst",
    "format_version": 0.13,
    "jupytext_version": "1.16.1"
   }
  },
  "kernelspec": {
   "display_name": "Python 3 (ipykernel)",
   "language": "python",
   "name": "python3"
  },
  "language_info": {
   "codemirror_mode": {
    "name": "ipython",
    "version": 3
   },
   "file_extension": ".py",
   "mimetype": "text/x-python",
   "name": "python",
   "nbconvert_exporter": "python",
   "pygments_lexer": "ipython3",
   "version": "3.11.2"
  },
  "source_map": [
   15,
   21,
   25,
   29,
   34,
   45,
   59,
   63
  ]
 },
 "nbformat": 4,
 "nbformat_minor": 5
}