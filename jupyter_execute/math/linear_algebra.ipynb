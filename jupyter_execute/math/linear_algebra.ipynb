{
 "cells": [
  {
   "cell_type": "markdown",
   "id": "2d7adffd-7f67-4c48-901e-cb4f7efe5b54",
   "metadata": {},
   "source": [
    "# Linear Algebra\n",
    "## Informal Notes and Practice"
   ]
  },
  {
   "cell_type": "markdown",
   "id": "21d01c2c-3427-4ad4-86e8-1b6c1bf6641e",
   "metadata": {},
   "source": [
    "We begin by creating and demonstrating two matrices we can multiply.  The pattern to be able to multiply $A \\times B$, assuming A is $m \\times n$  and B is $n \\times  p$ is A. must equal B.n.  \n",
    "\n",
    "In other words, the columns of the first must match the rows of the second\n",
    "\n",
    "$m \\times \\boxed{n \\times n} \\times p$"
   ]
  },
  {
   "cell_type": "code",
   "execution_count": 1,
   "id": "3891289f-9ed3-43e4-ac01-c6cb4c18ca7c",
   "metadata": {},
   "outputs": [
    {
     "name": "stdout",
     "output_type": "stream",
     "text": [
      "[[ 1  1]\n",
      " [-2  2]\n",
      " [ 4 -2]]\n",
      "[[-1  3]\n",
      " [ 4  4]]\n"
     ]
    }
   ],
   "source": [
    "import numpy as np\n",
    "import numpy.random as random\n",
    "A = np.array(random.randint(-3, 5, 3*2)).reshape(3,2)\n",
    "B = np.array(random.randint(-3, 5, 2*2)).reshape(2,2)\n",
    "\n",
    "print(A)\n",
    "print(B)"
   ]
  },
  {
   "cell_type": "code",
   "execution_count": 2,
   "id": "a5ba0569-ad9f-459a-b379-f3b1bc86697a",
   "metadata": {},
   "outputs": [],
   "source": [
    "def can_multiply(a, b):    \n",
    "    assert(a.ndim == 2 and b.ndim ==2)\n",
    "    return a.shape[1] == b.shape[0]    "
   ]
  },
  {
   "cell_type": "code",
   "execution_count": 3,
   "id": "dd2f5aea-8e9b-4cfd-8200-d2bbb00ca2dc",
   "metadata": {},
   "outputs": [
    {
     "data": {
      "text/plain": [
       "True"
      ]
     },
     "execution_count": 3,
     "metadata": {},
     "output_type": "execute_result"
    }
   ],
   "source": [
    "can_multiply(A, B)"
   ]
  },
  {
   "cell_type": "code",
   "execution_count": 4,
   "id": "6430eff5-9616-4651-894b-bfe1cc554429",
   "metadata": {},
   "outputs": [
    {
     "data": {
      "text/plain": [
       "False"
      ]
     },
     "execution_count": 4,
     "metadata": {},
     "output_type": "execute_result"
    }
   ],
   "source": [
    "can_multiply(B, A)"
   ]
  },
  {
   "cell_type": "code",
   "execution_count": 5,
   "id": "95bdbf8c-ec63-4db1-a7aa-ffc6af7f2e14",
   "metadata": {},
   "outputs": [
    {
     "data": {
      "text/plain": [
       "True"
      ]
     },
     "execution_count": 5,
     "metadata": {},
     "output_type": "execute_result"
    }
   ],
   "source": [
    "(A@B).shape == (A.shape[0], B.shape[1])"
   ]
  },
  {
   "cell_type": "code",
   "execution_count": null,
   "id": "aff6d4c9-f725-444e-a1f4-bf8f224d7c7e",
   "metadata": {},
   "outputs": [],
   "source": []
  }
 ],
 "metadata": {
  "kernelspec": {
   "display_name": "Python 3 (ipykernel)",
   "language": "python",
   "name": "python3"
  },
  "language_info": {
   "codemirror_mode": {
    "name": "ipython",
    "version": 3
   },
   "file_extension": ".py",
   "mimetype": "text/x-python",
   "name": "python",
   "nbconvert_exporter": "python",
   "pygments_lexer": "ipython3",
   "version": "3.11.2"
  }
 },
 "nbformat": 4,
 "nbformat_minor": 5
}