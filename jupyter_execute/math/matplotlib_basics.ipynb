{
 "cells": [
  {
   "cell_type": "code",
   "execution_count": 1,
   "id": "802e8486-9263-48e4-9361-0427b6c319ac",
   "metadata": {},
   "outputs": [],
   "source": [
    "# So far based on \n",
    "# /matplotlib-coordinates-toward-a-python-graphing-calculator/\n",
    "\n",
    "import matplotlib.pyplot as plt\n",
    "\n",
    "\n",
    "def configure_graph_grid(grid_min, grid_max):\n",
    "    \"\"\"Set up a square grid axis\"\"\"\n",
    "    \n",
    "    # Make it square and set limits\n",
    "    plt.axis('square')\n",
    "    plt.axis(( grid_min, grid_max, grid_min, grid_max))\n",
    "\n",
    "def set_ticks(axes, min_val, max_val, tick_increment=1):\n",
    "    #print(type(axes))\n",
    "    \"\"\"Sets the granularity of the boxes.  Default is 1\"\"\"\n",
    "    ticks = [x for x in range(min_val, max_val +1, tick_increment)]\n",
    "    axes.set_xticks(ticks)\n",
    "    axes.set_yticks(ticks)    \n",
    "\n",
    "def plot_axes(grid_min, grid_max):\n",
    "    \"\"\"Plot x and y axes, x first then y\"\"\"\n",
    "    plt.plot([grid_min, grid_max], [0,0] , color=\"gray\")\n",
    "    plt.plot([0,0],[grid_min, grid_max],  color=\"gray\")\n",
    "    #plt.arrow(grid_min, 0, grid_max, 0)\n",
    "    plt.grid()\n",
    "\n",
    "def linear(x, m=2, b = -1):\n",
    "     \"\"\"A function to plot an arbitrary point (x) on a line.\"\"\"\n",
    "     return m * x + b\n",
    "    \n",
    "x_values = [-8, 8]\n",
    "\n",
    "y_values = [linear(x, m=2, b=0) for x in x_values]\n",
    "min_val, max_val = -10, 10\n",
    "fig, axes = plt.subplots(figsize=(7.5,7.5))\n",
    "configure_graph_grid(min_val, max_val)\n",
    "plot_axes(min_val, max_val)\n",
    "set_ticks(axes, min_val, max_val, 1)\n",
    "plt.plot(x_values, y_values,)\n",
    "_ = plt.title(\"A linear plot of $y = 2x$\")\n"
   ]
  },
  {
   "cell_type": "code",
   "execution_count": null,
   "id": "f95aaef3-93cd-4e56-8cc3-b2c3233061f2",
   "metadata": {},
   "outputs": [],
   "source": []
  },
  {
   "cell_type": "code",
   "execution_count": null,
   "id": "ed7fc46a-d7f9-4207-8b46-c5bae5bc2dc8",
   "metadata": {},
   "outputs": [],
   "source": []
  }
 ],
 "metadata": {
  "kernelspec": {
   "display_name": "Python 3 (ipykernel)",
   "language": "python",
   "name": "python3"
  },
  "language_info": {
   "codemirror_mode": {
    "name": "ipython",
    "version": 3
   },
   "file_extension": ".py",
   "mimetype": "text/x-python",
   "name": "python",
   "nbconvert_exporter": "python",
   "pygments_lexer": "ipython3",
   "version": "3.11.2"
  }
 },
 "nbformat": 4,
 "nbformat_minor": 5
}