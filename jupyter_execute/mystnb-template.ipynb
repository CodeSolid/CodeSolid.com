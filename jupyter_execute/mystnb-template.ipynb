{
 "cells": [
  {
   "cell_type": "markdown",
   "id": "ac85e1be",
   "metadata": {},
   "source": [
    "# Your Header here\n",
    "\n",
    "Use extension mystnb"
   ]
  },
  {
   "cell_type": "code",
   "execution_count": 1,
   "id": "d6d1af4e",
   "metadata": {},
   "outputs": [],
   "source": [
    "# Your code here"
   ]
  }
 ],
 "metadata": {
  "file_format": "mystnb",
  "kernelspec": {
   "display_name": "python3",
   "name": "python3"
  },
  "language_info": {
   "codemirror_mode": {
    "name": "ipython",
    "version": 3
   },
   "file_extension": ".py",
   "mimetype": "text/x-python",
   "name": "python",
   "nbconvert_exporter": "python",
   "pygments_lexer": "ipython3",
   "version": "3.11.2"
  },
  "source_map": [
   5,
   9
  ]
 },
 "nbformat": 4,
 "nbformat_minor": 5
}