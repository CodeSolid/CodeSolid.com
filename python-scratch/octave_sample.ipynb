{
 "cells": [
  {
   "cell_type": "code",
   "execution_count": 9,
   "id": "b10b22fb-9fed-44bf-af90-cd5c02904e8b",
   "metadata": {},
   "outputs": [
    {
     "name": "stdout",
     "output_type": "stream",
     "text": [
      "\u001b[?2004l\n",
      "\u001b[?2004h\u001b[?2004l\n",
      "\u001b[?2004h\u001b[?2004l\n",
      "\u001b[?2004h\u001b[?2004l\n",
      "warning: opengl_renderer::render_text: support for rendering text (FreeType) was unavailable or disabled when Octave was built\n",
      "warning: called from\n",
      "    axes at line 107 column 8\n",
      "    newplot at line 161 column 10\n",
      "    plot at line 239 column 9\n",
      "\n",
      "\u001b[?2004h"
     ]
    },
    {
     "data": {
      "image/png": "[encoded data removed]",
      "text/plain": [
       "<IPython.core.display.Image object>"
      ]
     },
     "metadata": {},
     "output_type": "display_data"
    }
   ],
   "source": [
    "\n",
    "x = linspace(0, 2*pi, 100);\n",
    "y = sin(x);\n",
    "plot(x,y, \"linewidth\", 3);"
   ]
  },
  {
   "cell_type": "code",
   "execution_count": 2,
   "id": "0be85951-4e81-455f-94f4-4146ec5eaef6",
   "metadata": {},
   "outputs": [
    {
     "name": "stdout",
     "output_type": "stream",
     "text": [
      "\u001b[?2004l\n",
      "ans = 5\n",
      "\u001b[?2004h"
     ]
    }
   ],
   "source": [
    "3+2"
   ]
  },
  {
   "cell_type": "code",
   "execution_count": null,
   "id": "3cfea38e-7bbb-45b2-acf4-6ffd1380b959",
   "metadata": {},
   "outputs": [],
   "source": []
  }
 ],
 "metadata": {
  "kernelspec": {
   "display_name": "Octave",
   "language": "octave",
   "name": "octave"
  },
  "language_info": {
   "file_extension": ".m",
   "help_links": [
    {
     "text": "GNU Octave",
     "url": "https://www.gnu.org/software/octave/support.html"
    },
    {
     "text": "Octave Kernel",
     "url": "https://github.com/Calysto/octave_kernel"
    },
    {
     "text": "MetaKernel Magics",
     "url": "https://metakernel.readthedocs.io/en/latest/source/README.html"
    }
   ],
   "mimetype": "text/x-octave",
   "name": "octave",
   "version": "9.1.0"
  }
 },
 "nbformat": 4,
 "nbformat_minor": 5
}
