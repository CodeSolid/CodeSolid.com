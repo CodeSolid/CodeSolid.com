{
 "cells": [
  {
   "cell_type": "markdown",
   "id": "d530e2f7-392e-4b61-b222-7bb48e20d5ec",
   "metadata": {},
   "source": [
    "# Rust Errors and Options\n",
    "\n",
    "I wanted to learn more about two important Rust topics, different ways to deal with expected errors in a program, and how to work with the the rust Option type. I first thought about treating them together when learning about some of the methods on the Result type which return an Option.  \n",
    "\n",
    "By way of background, the Result type is how we deal with expected errors that happen, the kind of errors that are not a bug in the program.  For errors that are truly bugs or things that just shouldn't happen, Rust will panic, meaning that it will terminate the currently running thread and gracefully unwind the call stack, freeing any heap memory as it does so.  Dividing by zero is a classic example of this, so this expression would panic if uncommented, for example:"
   ]
  },
  {
   "cell_type": "code",
   "execution_count": 20,
   "id": "32d69c81-5f9e-4d04-94f5-f508b1042835",
   "metadata": {},
   "outputs": [],
   "source": [
    "// 42 / 0"
   ]
  },
  {
   "cell_type": "code",
   "execution_count": null,
   "id": "ad11b1b6-6061-4342-ad30-d7efb01affac",
   "metadata": {},
   "outputs": [],
   "source": []
  }
 ],
 "metadata": {
  "kernelspec": {
   "display_name": "Rust",
   "language": "rust",
   "name": "rust"
  },
  "language_info": {
   "codemirror_mode": "rust",
   "file_extension": ".rs",
   "mimetype": "text/rust",
   "name": "Rust",
   "pygment_lexer": "rust",
   "version": ""
  },
  "widgets": {
   "application/vnd.jupyter.widget-state+json": {
    "state": {},
    "version_major": 2,
    "version_minor": 0
   }
  }
 },
 "nbformat": 4,
 "nbformat_minor": 5
}
