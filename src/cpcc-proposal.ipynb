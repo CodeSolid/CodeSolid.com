{
 "cells": [
  {
   "cell_type": "markdown",
   "metadata": {},
   "source": [
    "# CPCC STEM Tank Proposal Draft\n",
    "\n",
    "## Project Overview\n",
    "\n",
    "In this project, students will explore several free and open source tools that have been widely embrased by scientists and mathemticians, including:\n",
    "\n",
    "* **Python**:  An easy-to learn and extremely popular programming language.\n",
    "* **Jupyter Notebooks**: An environment for mixing Python code and documentation in Markdown, including support simiar to LaTeX for formatting sophisticated mathematical expressions.\n",
    "* **Python \"math\"**:  Part of its standard library, the Python math package supports approximate numerical calculations (similar to what's supported in the TI-84 calculator).\n",
    "* **SymPy**:  A Python package that implements a Computer Algebra System. As such, it supports symbolic manipulation, allowing for solving equations, factoring, differentiation and integration of functions, etc.  SymPy also includes support for Linear Alegbra, Number Theory, and other topics beyond basic Calculus.\n",
    "* **NumPy**: An alternative to SymPy for linear algebra, NumPy is a Python package which supports fast processing of multi-dimensional arrays.  As such, it can be seen as an alternative to Matlab/Octave for working with Linear Algebra operations.\n"
   ]
  },
  {
   "cell_type": "markdown",
   "metadata": {},
   "source": [
    "## Technology and Tools\n",
    "\n",
    "To be able to focus on the task and easily share our work, it's expected that we may use Kaggle, a free Jupyter hosting service with the libraries we'll need pre-installed.  This is probably the best way to make forward progress without too much emphasis on initial setup.  That said, a laptop with an internet connection will be required for participants in this group."
   ]
  },
  {
   "cell_type": "markdown",
   "metadata": {},
   "source": [
    "## Deliverables\n",
    "\n",
    "We expect that each student will publish a Jupyter Notebook to our Kaggle environment.  One way to organize the focus of these is as a set of \"tutorials\" that can be used by other students for using open source math tools in their own math study."
   ]
  },
  {
   "cell_type": "markdown",
   "metadata": {},
   "source": [
    "## Level of Detail\n",
    "\n",
    "The topics above could fill more than one full-semester course. Therefore, we'll focus on providing just enough \"instruction\" to allow participants to make progress on publishing Jupyter Notebooks of their own while digging further into their chosen topics of interest."
   ]
  }
 ],
 "metadata": {
  "kaggle": {
   "accelerator": "none",
   "dataSources": [],
   "dockerImageVersionId": 30746,
   "isGpuEnabled": false,
   "isInternetEnabled": true,
   "language": "python",
   "sourceType": "notebook"
  },
  "kernelspec": {
   "display_name": "Python 3 (ipykernel)",
   "language": "python",
   "name": "python3"
  },
  "language_info": {
   "codemirror_mode": {
    "name": "ipython",
    "version": 3
   },
   "file_extension": ".py",
   "mimetype": "text/x-python",
   "name": "python",
   "nbconvert_exporter": "python",
   "pygments_lexer": "ipython3",
   "version": "3.12.4"
  }
 },
 "nbformat": 4,
 "nbformat_minor": 4
}
